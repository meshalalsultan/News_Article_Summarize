{
  "nbformat": 4,
  "nbformat_minor": 0,
  "metadata": {
    "colab": {
      "name": "News_Article_Summarize.ipynb",
      "provenance": [],
      "include_colab_link": true
    },
    "kernelspec": {
      "name": "python3",
      "display_name": "Python 3"
    }
  },
  "cells": [
    {
      "cell_type": "markdown",
      "metadata": {
        "id": "view-in-github",
        "colab_type": "text"
      },
      "source": [
        "<a href=\"https://colab.research.google.com/github/meshalalsultan/News_Article_Summarize/blob/master/News_Article_Summarize.ipynb\" target=\"_parent\"><img src=\"https://colab.research.google.com/assets/colab-badge.svg\" alt=\"Open In Colab\"/></a>"
      ]
    },
    {
      "cell_type": "code",
      "metadata": {
        "id": "AwoQuAxwfxRu",
        "colab_type": "code",
        "colab": {}
      },
      "source": [
        "pip install nltk"
      ],
      "execution_count": 0,
      "outputs": []
    },
    {
      "cell_type": "code",
      "metadata": {
        "id": "VMiI8uwFgb9Q",
        "colab_type": "code",
        "colab": {}
      },
      "source": [
        "#pip install newspaper3k\n"
      ],
      "execution_count": 0,
      "outputs": []
    },
    {
      "cell_type": "code",
      "metadata": {
        "id": "CKxk3H8Ogu3x",
        "colab_type": "code",
        "colab": {}
      },
      "source": [
        "#Import the libraries\n",
        "import nltk\n",
        "from newspaper import Article\n"
      ],
      "execution_count": 0,
      "outputs": []
    },
    {
      "cell_type": "code",
      "metadata": {
        "id": "t-vE4OWgg1nx",
        "colab_type": "code",
        "colab": {}
      },
      "source": [
        "#Get the article\n",
        "url = 'https://www.msn.com/en-us/money/smallbusiness/why-heroic-efforts-are-damaging-your-company-growth/ar-BBYkx4P'\n",
        "article = Article(url)"
      ],
      "execution_count": 0,
      "outputs": []
    },
    {
      "cell_type": "code",
      "metadata": {
        "id": "IYBLvpzXhW_X",
        "colab_type": "code",
        "colab": {
          "base_uri": "https://localhost:8080/",
          "height": 51
        },
        "outputId": "ee1a717c-1231-44ab-cd26-e9ec67748266"
      },
      "source": [
        "# Do some NLP\n",
        "article.download()\n",
        "article.parse()\n",
        "nltk.download('punkt')\n",
        "article.nlp()"
      ],
      "execution_count": 9,
      "outputs": [
        {
          "output_type": "stream",
          "text": [
            "[nltk_data] Downloading package punkt to /root/nltk_data...\n",
            "[nltk_data]   Unzipping tokenizers/punkt.zip.\n"
          ],
          "name": "stdout"
        }
      ]
    },
    {
      "cell_type": "code",
      "metadata": {
        "id": "NbTh0TcMhess",
        "colab_type": "code",
        "colab": {
          "base_uri": "https://localhost:8080/",
          "height": 34
        },
        "outputId": "6aac1201-d652-4b30-eacc-8337709d4f38"
      },
      "source": [
        "#Get the authors\n",
        "article.authors"
      ],
      "execution_count": 10,
      "outputs": [
        {
          "output_type": "execute_result",
          "data": {
            "text/plain": [
              "[]"
            ]
          },
          "metadata": {
            "tags": []
          },
          "execution_count": 10
        }
      ]
    },
    {
      "cell_type": "code",
      "metadata": {
        "id": "oGrBC5H7hoz5",
        "colab_type": "code",
        "colab": {}
      },
      "source": [
        "#Get the publish date\n",
        "article.publish_date"
      ],
      "execution_count": 0,
      "outputs": []
    },
    {
      "cell_type": "code",
      "metadata": {
        "id": "Guurbr1Qhtfw",
        "colab_type": "code",
        "colab": {
          "base_uri": "https://localhost:8080/",
          "height": 34
        },
        "outputId": "4d1fa441-9f78-4aa7-cd48-736b92a0e8f5"
      },
      "source": [
        "#Get the top image \n",
        "article.top_image"
      ],
      "execution_count": 13,
      "outputs": [
        {
          "output_type": "execute_result",
          "data": {
            "text/plain": [
              "'https://img-s-msn-com.akamaized.net/tenant/amp/entityid/BBAXQYT.img?h=250&w=300&m=1&q=60&b=white'"
            ]
          },
          "metadata": {
            "tags": []
          },
          "execution_count": 13
        }
      ]
    },
    {
      "cell_type": "code",
      "metadata": {
        "id": "_sBXovMHh5xu",
        "colab_type": "code",
        "colab": {
          "base_uri": "https://localhost:8080/",
          "height": 462
        },
        "outputId": "e15240f6-bac0-4a6c-81bc-d23a64f618a4"
      },
      "source": [
        "#Get the article text\n",
        "print(article.text)"
      ],
      "execution_count": 14,
      "outputs": [
        {
          "output_type": "stream",
          "text": [
            "© Getty Images Business superhero. Mixed media\n",
            "\n",
            "Dependence on Talent over Systems can Stall Your Growth\n",
            "\n",
            "One of the things we celebrate, particularly in entrepreneurial organizations, is the last-minute effort a person or a team puts in to beat a tough deadline. Maybe it's a product team hustling to complete a prototype against the clock, a group of accountants and lawyers working through the night to close an acquisition, or even a CEO swooping in to save a key account at the last minute. Heroic efforts like these should be celebrated, right? Actually, no. These kinds of heroic efforts are actually damaging the long-term growth prospects for your organization.\n",
            "\n",
            "Let me explain why.\n",
            "\n",
            "I've written before on this blog and in my book, Great CEOs Are Lazy, that every well-run organization has to balance a yin-yang between talent and process. For young companies, who have yet to develop processes and systems, it's natural to rely on the heroic efforts of your people like I described above to help grow the business.\n",
            "\n",
            "But if you want to build a truly scalable business, you need more processes and systems. . I know that most entrepreneurs are practically allergic to processes - I get it. But you can't afford to rely on the heroic efforts and expect people to pull all-nighters every week to grow the business and expect them to stay healthy physically and mentally.\n",
            "\n",
            "I recall a time when I was the CEO of a business that made industrial controls. We had a big trade show coming up and we were planning to debut a cutting-edge new calibration product to our customers. The engineer in charge of the product, a guy named Craig, ended up working something like three straight days to finish the prototype in time for the show. In fact, we ultimately found him sleeping on the floor next to his finished demo unit the morning before the show.\n",
            "\n",
            "When we all got together for our next company meeting a few weeks later, Craig was counting on getting some praise for all his heroic effort to save the day. But I wasn't going to go there. Rather, I told everyone that I was glad the new product was done--but that I hated how we did it. I knew in this case that Craig had been working on this product for almost a year. Every time I inquired about his progress, or offered him help and resources, he turned me away. Why did he wait until the last few days to finish it? The truth is he created the very conditions where he needed to step up and save the day and be a hero. I wasn't going to celebrate his efforts because I wanted to change the culture of how we worked and become more methodical and predictable.\n",
            "\n",
            "I know that some of us work better under pressure--like pulling the all-nighter the night before an exam. But again, it's not sustainable. By contrast, we also had another engineer on staff named Napoleon, who was incredibly capable and productive. He just went about his business and got his work done without drama: no muss or fuss. I think employees like Napoleon generally don't get applauded enough because the way they work doesn't call attention to themselves the way Craig did. (Craig eventually left the company over his perceived slight of not being recognized for his heroic effort.)\n",
            "\n",
            "There are plenty of different approaches to product development, for example, like Agile, Scrum, and Stage Gate. Any of those can work perfectly well. The point is to have something in place where you have a more planned and methodical process that doesn't require heroic efforts or sacrifices to get the work done. These systems are also how you give employees like Napoleon the chance to thrive.\n",
            "\n",
            "When you rely on superhuman efforts to get work done rather than systems, it also puts incredible pressure on the types of people you hire. Not everyone is willing or capable of doing that kind of work--they're hard to find. It's why you hear so many leaders say things like, \"It's so hard to find good people.\" The truth is that there are plenty of good people out there, but they need good processes and systems to thrive.\n",
            "\n",
            "But this lesson doesn't just apply to your people--it also applies to the heroic CEO as well. I write in my book about the tendency of CEOs to go into \"Player Mode\" where they ride in to save the day, maybe by closing a sale at the last minute or mobilizing the resources to get a job done just in the nick of time. While you might need to become the hero from time to time, there is a cost whenever you do it. You're missing the opportunity to build organizational muscle and capability--as well as the processes and systems--you need in place to scale the business. Otherwise, you become the constraint that keeps you stuck in place.\n",
            "\n",
            "When you think about how your organization operates, do you rely on superhuman and heroic efforts to get your work done? If so, be careful, because you'll face real issues growing your company to the next level.\n"
          ],
          "name": "stdout"
        }
      ]
    },
    {
      "cell_type": "code",
      "metadata": {
        "id": "14FuBZ15iM02",
        "colab_type": "code",
        "colab": {
          "base_uri": "https://localhost:8080/",
          "height": 102
        },
        "outputId": "13d38f3d-7a3c-4a49-a522-e73fbfd67d16"
      },
      "source": [
        "#Get a summary of the article\n",
        "print(article.summary)"
      ],
      "execution_count": 15,
      "outputs": [
        {
          "output_type": "stream",
          "text": [
            "Heroic efforts like these should be celebrated, right?\n",
            "These kinds of heroic efforts are actually damaging the long-term growth prospects for your organization.\n",
            "For young companies, who have yet to develop processes and systems, it's natural to rely on the heroic efforts of your people like I described above to help grow the business.\n",
            "The point is to have something in place where you have a more planned and methodical process that doesn't require heroic efforts or sacrifices to get the work done.\n",
            "When you think about how your organization operates, do you rely on superhuman and heroic efforts to get your work done?\n"
          ],
          "name": "stdout"
        }
      ]
    }
  ]
}